{
 "cells": [
  {
   "cell_type": "code",
   "execution_count": null,
   "metadata": {
    "scrolled": true
   },
   "outputs": [],
   "source": [
    "from pose_estimation.data_preparation import CocoPreparator"
   ]
  },
  {
   "cell_type": "markdown",
   "metadata": {},
   "source": [
    "## Create main preparator and load annotation"
   ]
  },
  {
   "cell_type": "code",
   "execution_count": null,
   "metadata": {},
   "outputs": [],
   "source": [
    "from .constants import (MIN_IMAGE_SIZE, COCO_ANNOTATION_PATH, \n",
    "                        FOLDER_WITH_COCO_IMAGES_PATH, PATH_TO_SAVE_TFRECORDS,\n",
    "                        IMAGES_PR)"
   ]
  },
  {
   "cell_type": "code",
   "execution_count": null,
   "metadata": {},
   "outputs": [],
   "source": [
    "cco = CocoPreparator(\n",
    "    coco_annotations=COCO_ANNOTATION_PATH,\n",
    "    image_folder_path=FOLDER_WITH_COCO_IMAGES_PATH,\n",
    "    min_image_size=MIN_IMAGE_SIZE,\n",
    ")"
   ]
  },
  {
   "cell_type": "code",
   "execution_count": null,
   "metadata": {
    "scrolled": true
   },
   "outputs": [],
   "source": [
    "cco.save_records(\n",
    "    prefix=PATH_TO_SAVE_TFRECORDS,\n",
    "    images_pr=IMAGES_PR\n",
    ")"
   ]
  },
  {
   "cell_type": "code",
   "execution_count": null,
   "metadata": {},
   "outputs": [],
   "source": [
    "cco.show_annot(377706) # 377706 190081 - broken annot"
   ]
  },
  {
   "cell_type": "code",
   "execution_count": null,
   "metadata": {},
   "outputs": [],
   "source": []
  }
 ],
 "metadata": {
  "kernelspec": {
   "display_name": "Python 3",
   "language": "python",
   "name": "python3"
  },
  "language_info": {
   "codemirror_mode": {
    "name": "ipython",
    "version": 3
   },
   "file_extension": ".py",
   "mimetype": "text/x-python",
   "name": "python",
   "nbconvert_exporter": "python",
   "pygments_lexer": "ipython3",
   "version": "3.7.9"
  }
 },
 "nbformat": 4,
 "nbformat_minor": 2
}
