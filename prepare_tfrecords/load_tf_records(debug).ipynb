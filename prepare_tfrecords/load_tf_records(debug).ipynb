{
 "cells": [
  {
   "cell_type": "code",
   "execution_count": null,
   "metadata": {},
   "outputs": [],
   "source": [
    "import tensorflow as tf\n",
    "\n",
    "import numpy as np\n",
    "\n",
    "import matplotlib.pyplot as plt\n",
    "\n",
    "from MakiPoseNet.pose_estimation.generators.pose_estimation import  LoadDataMethod, RIterator, \\\n",
    "                                    RandomCropMethod, AugmentationPostMethod\n",
    "from MakiPoseNet.pose_estimation.generators.pipeline.tfr.tfr_pathgenerator import CycleGenerator\n",
    "from MakiPoseNet.pose_estimation.generators.pipeline.tfr.tfr_gen_layers import InputGenLayerV2, InputGenLayerV2Batched\n",
    "\n",
    "%matplotlib inline"
   ]
  },
  {
   "cell_type": "code",
   "execution_count": null,
   "metadata": {},
   "outputs": [],
   "source": [
    "import glob\n",
    "tfrecords = glob.glob('tfrecords/*') "
   ]
  },
  {
   "cell_type": "code",
   "execution_count": null,
   "metadata": {},
   "outputs": [],
   "source": [
    "cycle = CycleGenerator(tfrecords)"
   ]
  },
  {
   "cell_type": "code",
   "execution_count": null,
   "metadata": {},
   "outputs": [],
   "source": [
    "map_me = LoadDataMethod([24, 8])\n",
    "map_me = RandomCropMethod(512, 512)(map_me)\n",
    "map_me = AugmentationPostMethod(\n",
    "    use_rotation=True,\n",
    "    angle_max=50,\n",
    "    angle_min=-50,\n",
    "    use_shift=False,\n",
    "    dx_min=-10.0,\n",
    "    dx_max=10.0,\n",
    "    dy_min=-10.0,\n",
    "    dy_max=10.0,\n",
    "    use_zoom=True,\n",
    "    zoom_min=0.6,\n",
    "    zoom_max=1.5,\n",
    ")(map_me)\n",
    "\"\"\"\n",
    "\n",
    "map_read = LoadDataMethod([21, 8])\n",
    "map_read = RandomCropMethod(512, 512)(map_read)\n",
    "map_me = AugmentationPostMethod(\n",
    "    use_rotation=True,\n",
    "    angle_max=20,\n",
    "    angle_min=-20,\n",
    "    use_shift=False,\n",
    "    dx_min=-10.0,\n",
    "    dx_max=10.0,\n",
    "    dy_min=-10.0,\n",
    "    dy_max=10.0,\n",
    "    use_zoom=True,\n",
    "    zoom_min=0.8,\n",
    "    zoom_max=1.2,\n",
    ")\n",
    "\"\"\""
   ]
  },
  {
   "cell_type": "code",
   "execution_count": null,
   "metadata": {},
   "outputs": [],
   "source": [
    "\n",
    "gen_layer = InputGenLayerV2(\n",
    "    prefetch_size=3,\n",
    "    batch_size=4,\n",
    "    input_data_type=RIterator.IMAGE,\n",
    "    tfr_path_generator=cycle,\n",
    "    name='super_generator',\n",
    "    map_operation=map_me,\n",
    "    num_parallel_calls=-1,\n",
    "    cycle_length=4,\n",
    "    block_length=4\n",
    ")\n",
    "\"\"\"\n",
    "gen_layer = InputGenLayerV2Batched(\n",
    "    prefetch_size=2,\n",
    "    batch_size=4,\n",
    "    input_data_type=RIterator.IMAGE,\n",
    "    tfr_path_generator=cycle,\n",
    "    name='super_generator',\n",
    "    operation_before_batched=map_read,\n",
    "    map_operation=map_me,\n",
    "    num_parallel_calls=-1,\n",
    "    cycle_length=4,\n",
    "    block_length=4\n",
    ")\n",
    "\"\"\""
   ]
  },
  {
   "cell_type": "code",
   "execution_count": null,
   "metadata": {},
   "outputs": [],
   "source": [
    "sess = tf.Session()"
   ]
  },
  {
   "cell_type": "code",
   "execution_count": null,
   "metadata": {},
   "outputs": [],
   "source": [
    "gen_layer.get_iterator()"
   ]
  },
  {
   "cell_type": "code",
   "execution_count": null,
   "metadata": {},
   "outputs": [],
   "source": [
    "single = sess.run(gen_layer.get_iterator())  \n",
    "img, kp, kp_mask, size = [\n",
    "    single[RIterator.IMAGE],\n",
    "    single[RIterator.KEYPOINTS],\n",
    "    single[RIterator.KEYPOINTS_MASK],\n",
    "    single[RIterator.IMAGE_PROPERTIES]\n",
    "]"
   ]
  },
  {
   "cell_type": "code",
   "execution_count": null,
   "metadata": {},
   "outputs": [],
   "source": [
    "fig = plt.figure(figsize=(10, 10))\n",
    "\n",
    "fig.add_subplot(221)\n",
    "plt.imshow(img[0].astype(np.uint8))\n",
    "plt.scatter(kp[0][:,:, 0] * kp_mask[0][..., 0], kp[0][:,:, 1] * kp_mask[0][..., 0])\n",
    "\n",
    "fig.add_subplot(222)\n",
    "plt.imshow(img[1].astype(np.uint8))\n",
    "plt.scatter(kp[1][:,:, 0] * kp_mask[1][..., 0], kp[1][:,:, 1] * kp_mask[1][..., 0])\n",
    "\n",
    "fig.add_subplot(223)\n",
    "plt.imshow(img[2].astype(np.uint8))\n",
    "plt.scatter(kp[2][:,:, 0] * kp_mask[2][..., 0], kp[2][:,:, 1] * kp_mask[2][..., 0])\n",
    "\n",
    "fig.add_subplot(224)\n",
    "plt.imshow(img[3].astype(np.uint8))\n",
    "plt.scatter(kp[3][:,:, 0] * kp_mask[3][..., 0], kp[3][:,:, 1] * kp_mask[3][..., 0])"
   ]
  },
  {
   "cell_type": "code",
   "execution_count": null,
   "metadata": {},
   "outputs": [],
   "source": []
  },
  {
   "cell_type": "code",
   "execution_count": null,
   "metadata": {},
   "outputs": [],
   "source": []
  },
  {
   "cell_type": "markdown",
   "metadata": {},
   "source": [
    "## Measure time generation of the pipeline"
   ]
  },
  {
   "cell_type": "code",
   "execution_count": null,
   "metadata": {},
   "outputs": [],
   "source": [
    "import time"
   ]
  },
  {
   "cell_type": "code",
   "execution_count": null,
   "metadata": {},
   "outputs": [],
   "source": [
    "start = time.time()\n",
    "\n",
    "for i in range(100 * 1):\n",
    "    _ = sess.run(gen_layer.get_iterator())  \n",
    "\n",
    "print(time.time() - start)"
   ]
  },
  {
   "cell_type": "code",
   "execution_count": null,
   "metadata": {},
   "outputs": [],
   "source": [
    "# 4.678076267242432"
   ]
  },
  {
   "cell_type": "code",
   "execution_count": null,
   "metadata": {},
   "outputs": [],
   "source": []
  },
  {
   "cell_type": "code",
   "execution_count": null,
   "metadata": {},
   "outputs": [],
   "source": []
  },
  {
   "cell_type": "markdown",
   "metadata": {},
   "source": [
    "## Calculate number of bad and good image with keypoints"
   ]
  },
  {
   "cell_type": "code",
   "execution_count": null,
   "metadata": {},
   "outputs": [],
   "source": [
    "good = 0\n",
    "bad = 0\n",
    "unseen = 0\n",
    "count = 0"
   ]
  },
  {
   "cell_type": "code",
   "execution_count": null,
   "metadata": {},
   "outputs": [],
   "source": [
    "single = sess.run(gen_layer.get_iterator())  \n",
    "img, kp, kp_mask, size = [\n",
    "    single[RIterator.IMAGE],\n",
    "    single[RIterator.KEYPOINTS],\n",
    "    single[RIterator.KEYPOINTS_MASK],\n",
    "    single[RIterator.IMAGE_PROPERTIES]\n",
    "]\n",
    "\n",
    "fig = plt.figure(figsize=(10, 10))\n",
    "\n",
    "fig.add_subplot(221)\n",
    "plt.imshow(img[0].astype(np.uint8))\n",
    "plt.scatter(kp[0][:,:, 0] * kp_mask[0][..., 0], kp[0][:,:, 1] * kp_mask[0][..., 0])\n",
    "\n",
    "fig.add_subplot(222)\n",
    "plt.imshow(img[1].astype(np.uint8))\n",
    "plt.scatter(kp[1][:,:, 0] * kp_mask[1][..., 0], kp[1][:,:, 1] * kp_mask[1][..., 0])\n",
    "\n",
    "fig.add_subplot(223)\n",
    "plt.imshow(img[2].astype(np.uint8))\n",
    "plt.scatter(kp[2][:,:, 0] * kp_mask[2][..., 0], kp[2][:,:, 1] * kp_mask[2][..., 0])\n",
    "\n",
    "fig.add_subplot(224)\n",
    "plt.imshow(img[3].astype(np.uint8))\n",
    "plt.scatter(kp[3][:,:, 0] * kp_mask[3][..., 0], kp[3][:,:, 1] * kp_mask[3][..., 0])"
   ]
  },
  {
   "cell_type": "code",
   "execution_count": null,
   "metadata": {},
   "outputs": [],
   "source": [
    "good += 3"
   ]
  },
  {
   "cell_type": "code",
   "execution_count": null,
   "metadata": {},
   "outputs": [],
   "source": [
    "bad += 1"
   ]
  },
  {
   "cell_type": "code",
   "execution_count": null,
   "metadata": {},
   "outputs": [],
   "source": [
    "unseen += 1"
   ]
  },
  {
   "cell_type": "code",
   "execution_count": null,
   "metadata": {},
   "outputs": [],
   "source": [
    "count += 4"
   ]
  },
  {
   "cell_type": "code",
   "execution_count": null,
   "metadata": {},
   "outputs": [],
   "source": [
    "count"
   ]
  },
  {
   "cell_type": "code",
   "execution_count": null,
   "metadata": {},
   "outputs": [],
   "source": [
    "print('Image count: ', count)\n",
    "print('Good: ', good)\n",
    "print('Bad: ', bad)\n",
    "print('Unseen: ', unseen)"
   ]
  },
  {
   "cell_type": "code",
   "execution_count": null,
   "metadata": {},
   "outputs": [],
   "source": []
  }
 ],
 "metadata": {
  "kernelspec": {
   "display_name": "Python 3",
   "language": "python",
   "name": "python3"
  },
  "language_info": {
   "codemirror_mode": {
    "name": "ipython",
    "version": 3
   },
   "file_extension": ".py",
   "mimetype": "text/x-python",
   "name": "python",
   "nbconvert_exporter": "python",
   "pygments_lexer": "ipython3",
   "version": "3.7.9"
  }
 },
 "nbformat": 4,
 "nbformat_minor": 2
}
